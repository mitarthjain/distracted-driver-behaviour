{
 "cells": [
  {
   "cell_type": "markdown",
   "metadata": {},
   "source": [
    "Working at an insurance company has opened my eyes to the balance needed to offer affordable services yet still stay afloat as a company. Competition drives us to tailor health insurance to each population so that healthy populations are not mostly paying to subsidize less healthy populations, though this often does occur. So how can we prevent unfair premiums? By understanding our population better.\n",
    "\n",
    "State Farm has different concerns, but the objective remains the same. They want to know how to detect differences between high risk populations and low risk ones. This allows them to cater their products so that both the company and the customer sees value in their relationship. What better way to know how risky a driver is than to see exactly how they drive?\n",
    "\n",
    "This project attempts to see if using Convolutional Neural Networks can allow us to detect if drivers are distracted while at the wheel or driving as they should. A camera was installed in multiple cars with multiple actors, all simulating normal activities while driving. Unfortunately normal activities usually include texting, operating the radio, eating/drinking, reaching behind to the back seat, doing hair and makeup, or talking to the passenger. My model below detects the probability of each of these states given the image.\n",
    "\n",
    "First let's clean and prepare our data to be ingested into the CNN."
   ]
  },
  {
   "cell_type": "code",
   "execution_count": 1,
   "metadata": {},
   "outputs": [
    {
     "data": {
      "text/plain": [
       "['C:/Users/mitar/ia/Distracted-Drivers-Detection-master/train\\\\c0\\\\img_104.jpg',\n",
       " 'C:/Users/mitar/ia/Distracted-Drivers-Detection-master/train\\\\c0\\\\img_139.jpg',\n",
       " 'C:/Users/mitar/ia/Distracted-Drivers-Detection-master/train\\\\c0\\\\img_208.jpg',\n",
       " 'C:/Users/mitar/ia/Distracted-Drivers-Detection-master/train\\\\c0\\\\img_231.jpg',\n",
       " 'C:/Users/mitar/ia/Distracted-Drivers-Detection-master/train\\\\c0\\\\img_262.jpg']"
      ]
     },
     "execution_count": 1,
     "metadata": {},
     "output_type": "execute_result"
    }
   ],
   "source": [
    "import time\n",
    "import os\n",
    "import glob\n",
    "import numpy as np\n",
    "from PIL import Image\n",
    "import h5py\n",
    "from sklearn.model_selection import train_test_split\n",
    "import matplotlib.pyplot as plt\n",
    "\n",
    "# Get each image filepath into a list\n",
    "img_list = glob.glob(\"C:/Users/mitar/ia/Distracted-Drivers-Detection-master/train/**/*.jpg\")\n",
    "img_list[:5]"
   ]
  },
  {
   "cell_type": "markdown",
   "metadata": {},
   "source": [
    "Since my computer has 16GB of RAM and 4GB of GPU RAM I will resize the image to 1/16th the size by dividing the pixel height and width by 4. Also, these images have 3 channels of color (RGB) which do not inform the outcome variable. I also do not want the model to incorrectly learn from the colors since body position and focus is what the model should really be picking up. For this reason I convert each image to gray scale."
   ]
  },
  {
   "cell_type": "code",
   "execution_count": 2,
   "metadata": {
    "scrolled": false
   },
   "outputs": [
    {
     "name": "stdout",
     "output_type": "stream",
     "text": [
      "Load folder c0\n",
      "Load folder c1\n",
      "Load folder c2\n",
      "Load folder c3\n",
      "Load folder c4\n",
      "Load folder c5\n",
      "Load folder c6\n",
      "Load folder c7\n",
      "Load folder c8\n",
      "Load folder c9\n",
      "\n",
      "Loading and cleaning images took 1.2462098598480225 seconds \n",
      "\n",
      "Number of train images: 120\n"
     ]
    }
   ],
   "source": [
    "# Load in ALL train images and label them\n",
    "actual_images = []\n",
    "X = []\n",
    "y = []\n",
    "\n",
    "start = time.time()\n",
    "\n",
    "for j in range(10):\n",
    "    print('Load folder c{}'.format(j))\n",
    "    path = os.path.join('.', 'train', 'c' + str(j), '*.jpg')\n",
    "    img_list = glob.glob(path)\n",
    "    for file in img_list:\n",
    "        # Open each image and convert to black and white\n",
    "        img = Image.open(file).convert('L')\n",
    "        # Get image height and width to divide each by 2 (save memory)\n",
    "        height, width = img.size\n",
    "        # thumbnail is an in-place operation\n",
    "        img.thumbnail((height/4, width/4), Image.ANTIALIAS)\n",
    "        # Make each image into a numpy array divided by the max to get 0 to 1 normalization\n",
    "        img_data = np.array(img.getdata()) / 255\n",
    "        # Grow lists of actual images, image data, and labels\n",
    "        actual_images.append(img)\n",
    "        X.append(img_data)\n",
    "        y.append(j)\n",
    "# Combine list of images into numpy array\n",
    "X = np.array(X, dtype = 'float32')    \n",
    "\n",
    "end = time.time()\n",
    "\n",
    "print()\n",
    "print(\"Loading and cleaning images took %s\" % str(end - start), \"seconds\", '\\n')\n",
    "print(\"Number of train images: %s\" % len(X))"
   ]
  },
  {
   "cell_type": "code",
   "execution_count": 3,
   "metadata": {},
   "outputs": [
    {
     "name": "stdout",
     "output_type": "stream",
     "text": [
      "[0]\n"
     ]
    },
    {
     "data": {
      "image/png": "[encoded data removed]",
      "text/plain": [
       "<PIL.Image.Image image mode=L size=160x120 at 0x1E1EF7CA240>"
      ]
     },
     "execution_count": 3,
     "metadata": {},
     "output_type": "execute_result"
    }
   ],
   "source": [
    "# Show an example of an image and some labels\n",
    "print(y[0:20000:5000])\n",
    "actual_images[0]"
   ]
  },
  {
   "cell_type": "code",
   "execution_count": 4,
   "metadata": {},
   "outputs": [],
   "source": [
    "# Make sure to save both the cleaned inputs and the cleaned target\n",
    "X_h5 = h5py.File('X.h5', 'w')\n",
    "X_h5.create_dataset('X_h5', data=X)\n",
    "X_h5.close()\n",
    "\n",
    "y_h5 = h5py.File('y.h5', 'w')\n",
    "y_h5.create_dataset('y_h5', data=y)\n",
    "y_h5.close()"
   ]
  },
  {
   "cell_type": "markdown",
   "metadata": {},
   "source": [
    "Now with our images preprocessed and put into numeric format, we can move forward with dividing up the samples into test and train data We then also need to make sure the data shape is prepared in Tensorflow format and that the labels are dummy coded so that Keras can interpret the labels correctly."
   ]
  },
  {
   "cell_type": "code",
   "execution_count": 5,
   "metadata": {
    "scrolled": true
   },
   "outputs": [
    {
     "name": "stderr",
     "output_type": "stream",
     "text": [
      "Using TensorFlow backend.\n"
     ]
    },
    {
     "name": "stdout",
     "output_type": "stream",
     "text": [
      " 'X' matrix/input \n",
      "Shape:  (96, 160, 120, 1)\n",
      "[[0.16470589]\n",
      " [0.16470589]\n",
      " [0.16470589]\n",
      " [0.16470589]\n",
      " [0.16862746]] \n",
      "\n",
      " 'y' label/output \n",
      "Shape:  (96, 10)\n",
      "[[0 0 0 0 0 1 0 0 0 0]\n",
      " [0 0 0 0 0 1 0 0 0 0]\n",
      " [0 0 0 0 0 0 0 0 0 1]\n",
      " [0 0 0 0 0 1 0 0 0 0]\n",
      " [0 0 0 0 0 0 0 0 0 1]\n",
      " [0 0 0 0 0 0 0 1 0 0]\n",
      " [0 0 0 0 0 0 0 1 0 0]\n",
      " [0 0 0 0 0 0 0 0 0 1]\n",
      " [0 0 1 0 0 0 0 0 0 0]\n",
      " [0 0 0 0 0 0 0 1 0 0]\n",
      " [0 0 1 0 0 0 0 0 0 0]\n",
      " [0 0 0 0 0 0 1 0 0 0]\n",
      " [0 0 0 0 0 0 0 0 0 1]\n",
      " [0 0 0 0 0 1 0 0 0 0]\n",
      " [0 1 0 0 0 0 0 0 0 0]\n",
      " [0 0 0 0 0 0 0 1 0 0]\n",
      " [1 0 0 0 0 0 0 0 0 0]\n",
      " [0 0 1 0 0 0 0 0 0 0]\n",
      " [0 0 0 0 0 1 0 0 0 0]\n",
      " [0 0 1 0 0 0 0 0 0 0]\n",
      " [0 1 0 0 0 0 0 0 0 0]\n",
      " [0 0 0 0 0 0 1 0 0 0]\n",
      " [0 0 0 0 0 0 1 0 0 0]\n",
      " [1 0 0 0 0 0 0 0 0 0]\n",
      " [0 0 1 0 0 0 0 0 0 0]\n",
      " [0 0 0 1 0 0 0 0 0 0]\n",
      " [0 0 0 0 0 0 0 0 1 0]\n",
      " [0 0 0 0 0 1 0 0 0 0]\n",
      " [0 1 0 0 0 0 0 0 0 0]\n",
      " [0 0 0 0 0 1 0 0 0 0]\n",
      " [0 1 0 0 0 0 0 0 0 0]\n",
      " [0 0 0 1 0 0 0 0 0 0]\n",
      " [0 0 0 0 1 0 0 0 0 0]\n",
      " [0 0 0 0 0 0 0 0 1 0]\n",
      " [0 0 0 0 0 0 0 0 1 0]\n",
      " [0 0 0 0 0 0 0 0 0 1]\n",
      " [0 0 0 1 0 0 0 0 0 0]\n",
      " [0 1 0 0 0 0 0 0 0 0]\n",
      " [0 0 0 0 0 0 1 0 0 0]\n",
      " [0 0 0 0 0 0 0 0 1 0]\n",
      " [0 0 0 0 1 0 0 0 0 0]\n",
      " [1 0 0 0 0 0 0 0 0 0]\n",
      " [0 0 0 0 0 0 0 0 0 1]\n",
      " [0 0 0 1 0 0 0 0 0 0]\n",
      " [1 0 0 0 0 0 0 0 0 0]\n",
      " [1 0 0 0 0 0 0 0 0 0]\n",
      " [0 0 0 1 0 0 0 0 0 0]\n",
      " [0 0 0 0 0 0 0 1 0 0]\n",
      " [0 0 1 0 0 0 0 0 0 0]\n",
      " [0 0 0 0 0 0 0 0 0 1]\n",
      " [0 0 0 0 0 0 0 1 0 0]\n",
      " [0 0 0 0 0 1 0 0 0 0]\n",
      " [0 0 0 0 0 0 0 1 0 0]\n",
      " [0 0 1 0 0 0 0 0 0 0]\n",
      " [0 0 0 0 0 0 1 0 0 0]\n",
      " [0 0 0 0 0 0 1 0 0 0]\n",
      " [0 0 0 0 1 0 0 0 0 0]\n",
      " [0 1 0 0 0 0 0 0 0 0]\n",
      " [0 0 0 0 0 0 1 0 0 0]\n",
      " [1 0 0 0 0 0 0 0 0 0]\n",
      " [0 0 0 0 0 0 0 1 0 0]\n",
      " [0 0 0 0 0 0 1 0 0 0]\n",
      " [0 0 0 0 0 0 0 0 1 0]\n",
      " [0 0 0 1 0 0 0 0 0 0]\n",
      " [0 0 0 0 0 0 1 0 0 0]\n",
      " [0 0 1 0 0 0 0 0 0 0]\n",
      " [1 0 0 0 0 0 0 0 0 0]\n",
      " [0 0 1 0 0 0 0 0 0 0]\n",
      " [0 0 0 1 0 0 0 0 0 0]\n",
      " [0 0 0 0 0 0 0 0 1 0]\n",
      " [0 0 1 0 0 0 0 0 0 0]\n",
      " [0 0 0 0 1 0 0 0 0 0]\n",
      " [0 0 0 0 0 1 0 0 0 0]\n",
      " [0 0 0 0 0 0 0 0 1 0]\n",
      " [0 0 0 0 1 0 0 0 0 0]\n",
      " [0 0 0 0 1 0 0 0 0 0]\n",
      " [0 0 0 0 0 0 0 1 0 0]\n",
      " [0 0 0 0 0 0 0 0 1 0]\n",
      " [0 0 0 0 0 0 0 0 1 0]\n",
      " [0 0 0 0 0 0 0 1 0 0]\n",
      " [1 0 0 0 0 0 0 0 0 0]\n",
      " [0 0 1 0 0 0 0 0 0 0]\n",
      " [0 0 0 0 0 0 1 0 0 0]\n",
      " [0 0 0 1 0 0 0 0 0 0]\n",
      " [0 1 0 0 0 0 0 0 0 0]\n",
      " [0 0 0 0 0 0 0 0 1 0]\n",
      " [0 0 0 0 0 1 0 0 0 0]\n",
      " [0 0 0 1 0 0 0 0 0 0]\n",
      " [1 0 0 0 0 0 0 0 0 0]\n",
      " [0 0 0 0 0 0 0 0 0 1]\n",
      " [0 1 0 0 0 0 0 0 0 0]\n",
      " [0 0 0 0 0 0 0 0 0 1]\n",
      " [0 0 0 1 0 0 0 0 0 0]\n",
      " [1 0 0 0 0 0 0 0 0 0]\n",
      " [0 0 1 0 0 0 0 0 0 0]\n",
      " [0 0 0 0 1 0 0 0 0 0]]\n"
     ]
    },
    {
     "name": "stderr",
     "output_type": "stream",
     "text": [
      "c:\\users\\mitar\\ia\\lib\\site-packages\\sklearn\\model_selection\\_split.py:2179: FutureWarning: From version 0.21, test_size will always complement train_size unless both are specified.\n",
      "  FutureWarning)\n"
     ]
    }
   ],
   "source": [
    "from keras.models import Sequential, load_model\n",
    "from keras.optimizers import Adam\n",
    "from keras.callbacks import EarlyStopping, Callback\n",
    "from keras.layers import Conv2D, Dense, Dropout, BatchNormalization, MaxPooling2D, Activation, Flatten\n",
    "from keras.utils import to_categorical\n",
    "from keras import backend as K\n",
    "from sklearn.metrics import confusion_matrix, accuracy_score\n",
    "import pickle\n",
    "\n",
    "# This make sure the input shape is: (number of samples, width, height, channels)\n",
    "K.set_image_dim_ordering('tf')\n",
    "\n",
    "# Load in preprocessed data\n",
    "with h5py.File('X.h5', 'r') as hf:\n",
    "    X = hf['X_h5'][:]\n",
    "with h5py.File('y.h5', 'r') as hf:\n",
    "    y = hf['y_h5'][:]\n",
    "\n",
    "# Get train and test sets\n",
    "X_train, X_test, y_train, y_test = train_test_split(X, y, train_size = 0.8, shuffle = True)\n",
    "\n",
    "# Prepare images to correct shape for Keras model\n",
    "X_train = X_train.reshape(X_train.shape[0], 160, 120, 1)\n",
    "X_test= X_test.reshape(X_test.shape[0], 160, 120, 1)\n",
    "y_train = to_categorical(y_train).astype('int32')\n",
    "y_test = to_categorical(y_test).astype('int32')\n",
    "\n",
    "# Check data to see if everything is ok\n",
    "print(\" 'X' matrix/input \")\n",
    "print(\"Shape: \", str(X_train.shape))\n",
    "print(X_train[0][0][:5], '\\n')\n",
    "print(\" 'y' label/output \")\n",
    "print(\"Shape: \", str(y_train.shape))\n",
    "print(y_train)"
   ]
  },
  {
   "cell_type": "markdown",
   "metadata": {},
   "source": [
    "Alright, everything looks ready for modeling. Before doing so I want to cover a new learning rate scheduling technique. Below is a cosine annealing learning rate scheduler with restarts coded by from Jeremy Jordan, a fellow deep learning practitioner on GitHub. It lets you choose a learning rate range to work between and decreases over a set number of epochs. Once it reaches the minimum learning rate it does one last epoch, followed directly by the max learning rate. This decrease in learning rate over epochs starts slowly and then increases at the rate of the cosine function. This process repeats as many times as one likes, potentially over different numbers of epochs.  Here is an example image of the idea:\n",
    "\n",
    "![SGDR Scheduler](https://cdn-images-1.medium.com/max/1200/1*nBTMGa3WqhS2Iq4gCeCZww.png)\n",
    "\n",
    "This technique allows one to carefully find their way into a local minima and then jump out with the jump in learning rate if the local minima is not generalizable. More explanation of this technique can be found here: https://techburst.io/improving-the-way-we-work-with-learning-rate-5e99554f163b"
   ]
  },
  {
   "cell_type": "code",
   "execution_count": 6,
   "metadata": {},
   "outputs": [],
   "source": [
    "class SGDRScheduler(Callback):\n",
    "    '''Cosine annealing learning rate scheduler with periodic restarts.\n",
    "    # Arguments\n",
    "        min_lr: The lower bound of the learning rate range for the experiment.\n",
    "        max_lr: The upper bound of the learning rate range for the experiment.\n",
    "        steps_per_epoch: Number of mini-batches in the dataset. Calculated as `np.ceil(epoch_size/batch_size)`. \n",
    "        lr_decay: Reduce the max_lr after the completion of each cycle.\n",
    "                  Ex. To reduce the max_lr by 20% after each cycle, set this value to 0.8.\n",
    "        cycle_length: Initial number of epochs in a cycle.\n",
    "        mult_factor: Scale epochs_to_restart after each full cycle completion.\n",
    "\n",
    "    # References\n",
    "        Blog post: jeremyjordan.me/nn-learning-rate\n",
    "        Original paper: http://arxiv.org/abs/1608.03983\n",
    "    '''\n",
    "    def __init__(self,\n",
    "                 min_lr,\n",
    "                 max_lr,\n",
    "                 steps_per_epoch,\n",
    "                 lr_decay=1,\n",
    "                 cycle_length=10,\n",
    "                 mult_factor=2):\n",
    "\n",
    "        self.min_lr = min_lr\n",
    "        self.max_lr = max_lr\n",
    "        self.lr_decay = lr_decay\n",
    "\n",
    "        self.batch_since_restart = 0\n",
    "        self.next_restart = cycle_length\n",
    "\n",
    "        self.steps_per_epoch = steps_per_epoch\n",
    "\n",
    "        self.cycle_length = cycle_length\n",
    "        self.mult_factor = mult_factor\n",
    "\n",
    "        self.history = {}\n",
    "\n",
    "    def clr(self):\n",
    "        '''Calculate the learning rate.'''\n",
    "        fraction_to_restart = self.batch_since_restart / (self.steps_per_epoch * self.cycle_length)\n",
    "        lr = self.min_lr + 0.5 * (self.max_lr - self.min_lr) * (1 + np.cos(fraction_to_restart * np.pi))\n",
    "        return lr\n",
    "\n",
    "    def on_train_begin(self, logs={}):\n",
    "        '''Initialize the learning rate to the minimum value at the start of training.'''\n",
    "        logs = logs or {}\n",
    "        K.set_value(self.model.optimizer.lr, self.max_lr)\n",
    "\n",
    "    def on_batch_end(self, batch, logs={}):\n",
    "        '''Record previous batch statistics and update the learning rate.'''\n",
    "        logs = logs or {}\n",
    "        self.history.setdefault('lr', []).append(K.get_value(self.model.optimizer.lr))\n",
    "        for k, v in logs.items():\n",
    "            self.history.setdefault(k, []).append(v)\n",
    "\n",
    "        self.batch_since_restart += 1\n",
    "        K.set_value(self.model.optimizer.lr, self.clr())\n",
    "\n",
    "    def on_epoch_end(self, epoch, logs={}):\n",
    "        '''Check for end of current cycle, apply restarts when necessary.'''\n",
    "        if epoch + 1 == self.next_restart:\n",
    "            self.batch_since_restart = 0\n",
    "            self.cycle_length = np.ceil(self.cycle_length * self.mult_factor)\n",
    "            self.next_restart += self.cycle_length\n",
    "            self.max_lr *= self.lr_decay\n",
    "            self.best_weights = self.model.get_weights()\n",
    "\n",
    "    def on_train_end(self, logs={}):\n",
    "        '''Set weights to the values from the end of the most recent cycle for best performance.'''\n",
    "        self.model.set_weights(self.best_weights)"
   ]
  },
  {
   "cell_type": "code",
   "execution_count": 7,
   "metadata": {
    "scrolled": true
   },
   "outputs": [
    {
     "name": "stdout",
     "output_type": "stream",
     "text": [
      "Train on 76 samples, validate on 20 samples\n",
      "Epoch 1/15\n",
      "76/76 [==============================] - 56s 743ms/step - loss: 2.9707 - acc: 0.1316 - val_loss: 15.3122 - val_acc: 0.0500\n",
      "Epoch 2/15\n",
      "76/76 [==============================] - 54s 709ms/step - loss: 2.3318 - acc: 0.1974 - val_loss: 9.6600 - val_acc: 0.1500\n",
      "Epoch 3/15\n",
      "76/76 [==============================] - 54s 707ms/step - loss: 1.9963 - acc: 0.2237 - val_loss: 7.9327 - val_acc: 0.2500\n",
      "Epoch 4/15\n",
      "76/76 [==============================] - 54s 705ms/step - loss: 1.8903 - acc: 0.3289 - val_loss: 7.1174 - val_acc: 0.2000\n",
      "Epoch 5/15\n",
      "76/76 [==============================] - 55s 726ms/step - loss: 1.8787 - acc: 0.3289 - val_loss: 5.2724 - val_acc: 0.3000\n",
      "Epoch 6/15\n",
      "76/76 [==============================] - 57s 749ms/step - loss: 1.9652 - acc: 0.3026 - val_loss: 9.6266 - val_acc: 0.1500\n",
      "Epoch 7/15\n",
      "76/76 [==============================] - 56s 737ms/step - loss: 1.8366 - acc: 0.3026 - val_loss: 11.5867 - val_acc: 0.1500\n",
      "Epoch 8/15\n",
      "76/76 [==============================] - 58s 757ms/step - loss: 1.6334 - acc: 0.4342 - val_loss: 12.3460 - val_acc: 0.1500\n",
      "Epoch 9/15\n",
      "76/76 [==============================] - 57s 749ms/step - loss: 1.5952 - acc: 0.4605 - val_loss: 12.2322 - val_acc: 0.1500\n",
      "Epoch 10/15\n",
      "76/76 [==============================] - 58s 757ms/step - loss: 1.4907 - acc: 0.5395 - val_loss: 11.3827 - val_acc: 0.1500\n",
      "Epoch 11/15\n",
      "76/76 [==============================] - 59s 775ms/step - loss: 1.3329 - acc: 0.5789 - val_loss: 10.0895 - val_acc: 0.1500\n",
      "Epoch 12/15\n",
      "76/76 [==============================] - 57s 756ms/step - loss: 1.1925 - acc: 0.6711 - val_loss: 8.5725 - val_acc: 0.1500\n",
      "Epoch 13/15\n",
      "76/76 [==============================] - 58s 770ms/step - loss: 1.1226 - acc: 0.6579 - val_loss: 6.5831 - val_acc: 0.1500\n",
      "Epoch 14/15\n",
      "76/76 [==============================] - 58s 768ms/step - loss: 1.2144 - acc: 0.5789 - val_loss: 5.5063 - val_acc: 0.1500\n",
      "Epoch 15/15\n",
      "76/76 [==============================] - 59s 782ms/step - loss: 1.1183 - acc: 0.7237 - val_loss: 4.7123 - val_acc: 0.1500\n"
     ]
    },
    {
     "data": {
      "image/png": "[encoded data removed]",
      "text/plain": [
       "<Figure size 432x288 with 1 Axes>"
      ]
     },
     "metadata": {
      "needs_background": "light"
     },
     "output_type": "display_data"
    },
    {
     "data": {
      "image/png": "[encoded data removed]",
      "text/plain": [
       "<Figure size 432x288 with 1 Axes>"
      ]
     },
     "metadata": {
      "needs_background": "light"
     },
     "output_type": "display_data"
    }
   ],
   "source": [
    "batch_size = 32\n",
    "\n",
    "# Use next line if not doing cosine annealing\n",
    "# early_stop = EarlyStopping(monitor = 'val_loss', patience = 3)\n",
    "\n",
    "schedule = SGDRScheduler(min_lr=1e-4,\n",
    "                         max_lr=1e-2,\n",
    "                         steps_per_epoch=np.ceil(X_train.shape[0]/batch_size),\n",
    "                         lr_decay=0.8,\n",
    "                         cycle_length=5,\n",
    "                         mult_factor=2)\n",
    "\n",
    "def DD_VGG():\n",
    "    model = Sequential()\n",
    "    # Use Batch Normalization for every conv and dense layers\n",
    "    model.add(Conv2D(64, kernel_size = (3,3), activation = 'relu', input_shape = (160, 120, 1)))\n",
    "    model.add(BatchNormalization())\n",
    "    model.add(Dropout(0.25))\n",
    "    model.add(Conv2D(64, kernel_size = (3,3), activation = 'relu'))\n",
    "    model.add(BatchNormalization())\n",
    "    model.add(MaxPooling2D(pool_size=(2,2)))\n",
    "    model.add(Conv2D(128, kernel_size = (3,3), activation = 'relu'))\n",
    "    model.add(BatchNormalization())\n",
    "    model.add(Dropout(0.25))\n",
    "    model.add(Conv2D(128, kernel_size = (3,3), activation = 'relu'))\n",
    "    model.add(BatchNormalization())\n",
    "    model.add(MaxPooling2D(pool_size=(2,2)))\n",
    "    model.add(Flatten())\n",
    "    model.add(Dense(64, activation = 'relu'))\n",
    "    model.add(BatchNormalization())\n",
    "    model.add(Dropout(0.33))\n",
    "    model.add(Dense(32, activation = 'relu'))\n",
    "    model.add(BatchNormalization())\n",
    "    model.add(Dense(10, activation = 'softmax')) # Sigmoid for log loss?\n",
    "    model.compile(loss= 'categorical_crossentropy' , optimizer= 'adam' , metrics=[ 'accuracy' ])\n",
    "    return model\n",
    "\n",
    "driver_model = DD_VGG()\n",
    "driver_hist = driver_model.fit(X_train, y_train, epochs=15, batch_size=batch_size, verbose=1,\n",
    "                               validation_split=0.2, callbacks=[schedule])\n",
    "\n",
    "def plot_model(model_hist, train_metric, val_metric):\n",
    "    plt.plot(model_hist[train_metric])\n",
    "    plt.plot(model_hist[val_metric])\n",
    "    plt.ylabel('Model ' + str(train_metric))\n",
    "    plt.xlabel('Epoch')\n",
    "    plt.legend(['Train', 'Val'], loc='upper left')\n",
    "    plt.show()\n",
    "\n",
    "plot_model(driver_hist.history, 'loss', 'val_loss')\n",
    "plot_model(driver_hist.history, 'acc', 'val_acc')"
   ]
  },
  {
   "cell_type": "code",
   "execution_count": 8,
   "metadata": {},
   "outputs": [],
   "source": [
    "# Save model when retraining\n",
    "driver_model.save('./driver_model.h5')\n",
    "#driver_model = load_model('./driver_model.h5')\n",
    "\n",
    "# Save model history\n",
    "with open('./trainHistoryDict', 'wb') as history:\n",
    "        pickle.dump(driver_hist.history, history)"
   ]
  },
  {
   "cell_type": "code",
   "execution_count": 9,
   "metadata": {},
   "outputs": [
    {
     "name": "stdout",
     "output_type": "stream",
     "text": [
      "[[2 0 0 0 0 0 0 0 0 0]\n",
      " [4 0 0 0 0 0 0 0 0 0]\n",
      " [0 0 0 0 0 0 0 0 0 0]\n",
      " [2 0 0 0 0 0 0 0 0 0]\n",
      " [4 0 1 0 0 0 0 0 0 0]\n",
      " [2 0 0 0 0 0 0 0 0 0]\n",
      " [2 0 0 0 0 0 0 0 0 0]\n",
      " [2 0 0 0 0 0 0 0 0 0]\n",
      " [2 0 0 0 0 0 0 0 0 0]\n",
      " [3 0 0 0 0 0 0 0 0 0]]\n",
      "Test set accuracy is: 0.08333333333333333\n"
     ]
    }
   ],
   "source": [
    "# Get predictions and make them into vector of 0 to 9\n",
    "test_pred = driver_model.predict(X_test)\n",
    "test_pred2 = np.argmax(test_pred, axis = 1)\n",
    "\n",
    "# Change dummy code matrix back to vector of 0 to 9\n",
    "y_test2 = np.argmax(y_test, axis = 1)\n",
    "\n",
    "# Get performance\n",
    "print(confusion_matrix(y_test2, test_pred2))\n",
    "print(\"Test set accuracy is: %s\" % accuracy_score(y_test2, test_pred2))"
   ]
  },
  {
   "cell_type": "code",
   "execution_count": 10,
   "metadata": {
    "scrolled": true
   },
   "outputs": [
    {
     "name": "stdout",
     "output_type": "stream",
     "text": [
      "Once deleted, variables cannot be recovered. Proceed (y/[n])? y\n",
      "\n",
      "Number of test images: 24\n"
     ]
    }
   ],
   "source": [
    "# Free up memory for submission data\n",
    "%reset\n",
    "\n",
    "# Re-import needed modules\n",
    "import glob\n",
    "import os\n",
    "import numpy as np\n",
    "from PIL import Image\n",
    "from keras.models import load_model\n",
    "import pandas as pd\n",
    "\n",
    "submission_data = []\n",
    "filenames = []\n",
    "\n",
    "img_list = sorted(glob.glob(\"C:/Users/mitar/ia/Distracted-Drivers-Detection-master/test/*.jpg\"))\n",
    "for file in img_list:\n",
    "     # Open each image and convert to black and white\n",
    "    img = Image.open(file)\n",
    "    filenames.append(os.path.basename(img.filename))\n",
    "    img = img.convert('L')\n",
    "    # Get image height and width to divide each by 4 (save memory)\n",
    "    # thumbnail is an in-place operation\n",
    "    img.thumbnail((img.size[0]/4, img.size[1]/4), Image.ANTIALIAS)\n",
    "    # Make into numpy array divided by the max to get 0 to 1 normalization\n",
    "    img_data = np.array(img.getdata()) / 255\n",
    "    submission_data.append(img_data)\n",
    "\n",
    "print()\n",
    "print(\"Number of test images: %s\" % len(submission_data))\n",
    "\n",
    "# Make list into numpy array and reshape to feed into model\n",
    "submission_data = np.array(submission_data, dtype = 'float32')\n",
    "submission_data = submission_data.reshape(submission_data.shape[0], 160, 120, 1)"
   ]
  },
  {
   "cell_type": "code",
   "execution_count": 11,
   "metadata": {},
   "outputs": [],
   "source": [
    "# Load in model and use it to predict\n",
    "driver_model = load_model('./driver_model.h5')\n",
    " \n",
    "# Get log probabilities\n",
    "kaggle_log_probs = driver_model.predict(submission_data)\n",
    "kaggle_log_probs = pd.DataFrame(kaggle_log_probs, index = filenames, columns = ['c0', 'c1', 'c2', 'c3', 'c4', 'c5', 'c6', 'c7', 'c8', 'c9'])\n",
    "\n",
    "kaggle_log_probs.to_csv('./DD_kaggle_submission.csv', sep=',', encoding='utf-8')"
   ]
  },
  {
   "cell_type": "code",
   "execution_count": 12,
   "metadata": {},
   "outputs": [
    {
     "name": "stdout",
     "output_type": "stream",
     "text": [
      "       Unnamed: 0        c0            c1        c2        c3        c4  \\\n",
      "0       img_1.jpg  0.910335  7.142236e-05  0.015315  0.012548  0.007306   \n",
      "1      img_10.jpg  0.158129  4.534117e-04  0.659940  0.057459  0.008073   \n",
      "2     img_100.jpg  0.936724  4.319017e-05  0.006643  0.008382  0.004995   \n",
      "3    img_1000.jpg  0.992770  3.730581e-07  0.000975  0.001028  0.001432   \n",
      "4  img_100000.jpg  0.886591  5.902228e-05  0.017415  0.008627  0.003761   \n",
      "5  img_100001.jpg  0.840707  3.476412e-05  0.008358  0.010146  0.012483   \n",
      "6  img_100002.jpg  0.924595  8.867945e-06  0.004789  0.006894  0.003097   \n",
      "7  img_100003.jpg  0.957919  1.548045e-06  0.002940  0.002297  0.001858   \n",
      "8  img_100004.jpg  0.339485  4.623199e-04  0.403307  0.068838  0.010319   \n",
      "9  img_100005.jpg  0.815235  3.467678e-05  0.049398  0.023075  0.004433   \n",
      "\n",
      "         c5        c6        c7        c8        c9  \n",
      "0  0.037691  0.002694  0.005131  0.000377  0.008532  \n",
      "1  0.042040  0.002334  0.014210  0.005791  0.051570  \n",
      "2  0.006007  0.001152  0.002209  0.000419  0.033426  \n",
      "3  0.001399  0.000257  0.000175  0.000012  0.001951  \n",
      "4  0.070658  0.000546  0.004634  0.000284  0.007424  \n",
      "5  0.113187  0.002546  0.000396  0.000120  0.012021  \n",
      "6  0.002137  0.001119  0.000192  0.000039  0.057129  \n",
      "7  0.030222  0.000148  0.000107  0.000017  0.004490  \n",
      "8  0.055766  0.004925  0.002666  0.002191  0.112040  \n",
      "9  0.004286  0.000763  0.005846  0.003615  0.093314  \n",
      "<class 'pandas.core.frame.DataFrame'>\n",
      "RangeIndex: 24 entries, 0 to 23\n",
      "Data columns (total 11 columns):\n",
      "Unnamed: 0    24 non-null object\n",
      "c0            24 non-null float64\n",
      "c1            24 non-null float64\n",
      "c2            24 non-null float64\n",
      "c3            24 non-null float64\n",
      "c4            24 non-null float64\n",
      "c5            24 non-null float64\n",
      "c6            24 non-null float64\n",
      "c7            24 non-null float64\n",
      "c8            24 non-null float64\n",
      "c9            24 non-null float64\n",
      "dtypes: float64(10), object(1)\n",
      "memory usage: 2.1+ KB\n",
      "None\n"
     ]
    }
   ],
   "source": [
    "import pandas as pd\n",
    "kaggle_submission = pd.read_csv('./DD_kaggle_submission.csv')\n",
    "\n",
    "print(kaggle_submission.head(10))\n",
    "print(kaggle_submission.info())"
   ]
  }
 ],
 "metadata": {
  "kernelspec": {
   "display_name": "Python 3",
   "language": "python",
   "name": "python3"
  },
  "language_info": {
   "codemirror_mode": {
    "name": "ipython",
    "version": 3
   },
   "file_extension": ".py",
   "mimetype": "text/x-python",
   "name": "python",
   "nbconvert_exporter": "python",
   "pygments_lexer": "ipython3",
   "version": "3.6.1"
  }
 },
 "nbformat": 4,
 "nbformat_minor": 2
}
